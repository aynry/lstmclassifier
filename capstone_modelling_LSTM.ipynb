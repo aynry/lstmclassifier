{
 "cells": [
  {
   "cell_type": "markdown",
   "id": "23a466ca",
   "metadata": {},
   "source": [
    "# Capstone Project"
   ]
  },
  {
   "cell_type": "markdown",
   "id": "27cfde8b",
   "metadata": {
    "papermill": {
     "duration": 0.01144,
     "end_time": "2023-04-05T16:06:30.448844",
     "exception": false,
     "start_time": "2023-04-05T16:06:30.437404",
     "status": "completed"
    },
    "tags": []
   },
   "source": [
    "## Modelling with LSTM"
   ]
  },
  {
   "cell_type": "code",
   "execution_count": 3,
   "id": "f3d82a34",
   "metadata": {
    "execution": {
     "iopub.execute_input": "2023-04-05T16:06:30.476293Z",
     "iopub.status.busy": "2023-04-05T16:06:30.475900Z",
     "iopub.status.idle": "2023-04-05T16:06:32.677209Z",
     "shell.execute_reply": "2023-04-05T16:06:32.675863Z"
    },
    "papermill": {
     "duration": 2.218316,
     "end_time": "2023-04-05T16:06:32.680209",
     "exception": false,
     "start_time": "2023-04-05T16:06:30.461893",
     "status": "completed"
    },
    "tags": []
   },
   "outputs": [],
   "source": [
    "#importing Libraries\n",
    "import numpy as np\n",
    "import pandas as pd\n",
    "\n",
    "from sklearn.model_selection import train_test_split\n",
    "\n",
    "\n",
    "import re\n",
    "import nltk\n",
    "from nltk.corpus import stopwords\n",
    "from nltk.stem import WordNetLemmatizer\n",
    "\n",
    "\n",
    "# import keras\n",
    "import tensorflow as tf\n",
    "from tensorflow import keras\n",
    "from sklearn.metrics import accuracy_score, precision_score, recall_score, f1_score\n",
    "from tensorflow.keras.models import Sequential\n",
    "from tensorflow.keras.layers import Embedding, LSTM, Dense, Dropout, SpatialDropout1D\n",
    "from tensorflow.keras.preprocessing.text import Tokenizer\n",
    "from tensorflow.keras.preprocessing.sequence import pad_sequences\n"
   ]
  },
  {
   "cell_type": "markdown",
   "id": "519579f8",
   "metadata": {},
   "source": [
    "## Loading the data"
   ]
  },
  {
   "cell_type": "code",
   "execution_count": 4,
   "id": "085b70c8",
   "metadata": {
    "execution": {
     "iopub.execute_input": "2023-04-05T16:06:32.724646Z",
     "iopub.status.busy": "2023-04-05T16:06:32.724235Z",
     "iopub.status.idle": "2023-04-05T16:06:38.842851Z",
     "shell.execute_reply": "2023-04-05T16:06:38.841630Z"
    },
    "papermill": {
     "duration": 6.13347,
     "end_time": "2023-04-05T16:06:38.845659",
     "exception": false,
     "start_time": "2023-04-05T16:06:32.712189",
     "status": "completed"
    },
    "tags": []
   },
   "outputs": [
    {
     "data": {
      "text/html": [
       "<div>\n",
       "<style scoped>\n",
       "    .dataframe tbody tr th:only-of-type {\n",
       "        vertical-align: middle;\n",
       "    }\n",
       "\n",
       "    .dataframe tbody tr th {\n",
       "        vertical-align: top;\n",
       "    }\n",
       "\n",
       "    .dataframe thead th {\n",
       "        text-align: right;\n",
       "    }\n",
       "</style>\n",
       "<table border=\"1\" class=\"dataframe\">\n",
       "  <thead>\n",
       "    <tr style=\"text-align: right;\">\n",
       "      <th></th>\n",
       "      <th>Unnamed: 0</th>\n",
       "      <th>title</th>\n",
       "      <th>text</th>\n",
       "      <th>label</th>\n",
       "    </tr>\n",
       "  </thead>\n",
       "  <tbody>\n",
       "    <tr>\n",
       "      <th>0</th>\n",
       "      <td>0</td>\n",
       "      <td>LAW ENFORCEMENT ON HIGH ALERT Following Threat...</td>\n",
       "      <td>No comment is expected from Barack Obama Membe...</td>\n",
       "      <td>1</td>\n",
       "    </tr>\n",
       "    <tr>\n",
       "      <th>1</th>\n",
       "      <td>1</td>\n",
       "      <td>NaN</td>\n",
       "      <td>Did they post their votes for Hillary already?</td>\n",
       "      <td>1</td>\n",
       "    </tr>\n",
       "    <tr>\n",
       "      <th>2</th>\n",
       "      <td>2</td>\n",
       "      <td>UNBELIEVABLE! OBAMA’S ATTORNEY GENERAL SAYS MO...</td>\n",
       "      <td>Now, most of the demonstrators gathered last ...</td>\n",
       "      <td>1</td>\n",
       "    </tr>\n",
       "    <tr>\n",
       "      <th>3</th>\n",
       "      <td>3</td>\n",
       "      <td>Bobby Jindal, raised Hindu, uses story of Chri...</td>\n",
       "      <td>A dozen politically active pastors came here f...</td>\n",
       "      <td>0</td>\n",
       "    </tr>\n",
       "    <tr>\n",
       "      <th>4</th>\n",
       "      <td>4</td>\n",
       "      <td>SATAN 2: Russia unvelis an image of its terrif...</td>\n",
       "      <td>The RS-28 Sarmat missile, dubbed Satan 2, will...</td>\n",
       "      <td>1</td>\n",
       "    </tr>\n",
       "    <tr>\n",
       "      <th>...</th>\n",
       "      <td>...</td>\n",
       "      <td>...</td>\n",
       "      <td>...</td>\n",
       "      <td>...</td>\n",
       "    </tr>\n",
       "    <tr>\n",
       "      <th>72129</th>\n",
       "      <td>72129</td>\n",
       "      <td>Russians steal research on Trump in hack of U....</td>\n",
       "      <td>WASHINGTON (Reuters) - Hackers believed to be ...</td>\n",
       "      <td>0</td>\n",
       "    </tr>\n",
       "    <tr>\n",
       "      <th>72130</th>\n",
       "      <td>72130</td>\n",
       "      <td>WATCH: Giuliani Demands That Democrats Apolog...</td>\n",
       "      <td>You know, because in fantasyland Republicans n...</td>\n",
       "      <td>1</td>\n",
       "    </tr>\n",
       "    <tr>\n",
       "      <th>72131</th>\n",
       "      <td>72131</td>\n",
       "      <td>Migrants Refuse To Leave Train At Refugee Camp...</td>\n",
       "      <td>Migrants Refuse To Leave Train At Refugee Camp...</td>\n",
       "      <td>0</td>\n",
       "    </tr>\n",
       "    <tr>\n",
       "      <th>72132</th>\n",
       "      <td>72132</td>\n",
       "      <td>Trump tussle gives unpopular Mexican leader mu...</td>\n",
       "      <td>MEXICO CITY (Reuters) - Donald Trump’s combati...</td>\n",
       "      <td>0</td>\n",
       "    </tr>\n",
       "    <tr>\n",
       "      <th>72133</th>\n",
       "      <td>72133</td>\n",
       "      <td>Goldman Sachs Endorses Hillary Clinton For Pre...</td>\n",
       "      <td>Goldman Sachs Endorses Hillary Clinton For Pre...</td>\n",
       "      <td>1</td>\n",
       "    </tr>\n",
       "  </tbody>\n",
       "</table>\n",
       "<p>72134 rows × 4 columns</p>\n",
       "</div>"
      ],
      "text/plain": [
       "       Unnamed: 0  ... label\n",
       "0               0  ...     1\n",
       "1               1  ...     1\n",
       "2               2  ...     1\n",
       "3               3  ...     0\n",
       "4               4  ...     1\n",
       "...           ...  ...   ...\n",
       "72129       72129  ...     0\n",
       "72130       72130  ...     1\n",
       "72131       72131  ...     0\n",
       "72132       72132  ...     0\n",
       "72133       72133  ...     1\n",
       "\n",
       "[72134 rows x 4 columns]"
      ]
     },
     "execution_count": 4,
     "metadata": {},
     "output_type": "execute_result"
    }
   ],
   "source": [
    "df = pd.read_csv('WELFake_Dataset.csv')\n",
    "df"
   ]
  },
  {
   "cell_type": "markdown",
   "id": "99521f43",
   "metadata": {},
   "source": [
    "## Data pre-processing"
   ]
  },
  {
   "cell_type": "code",
   "execution_count": 5,
   "id": "dbd7d04a",
   "metadata": {
    "execution": {
     "iopub.execute_input": "2023-04-05T16:06:39.044337Z",
     "iopub.status.busy": "2023-04-05T16:06:39.043937Z",
     "iopub.status.idle": "2023-04-05T16:06:39.054389Z",
     "shell.execute_reply": "2023-04-05T16:06:39.053058Z"
    },
    "papermill": {
     "duration": 0.025923,
     "end_time": "2023-04-05T16:06:39.056891",
     "exception": false,
     "start_time": "2023-04-05T16:06:39.030968",
     "status": "completed"
    },
    "tags": []
   },
   "outputs": [],
   "source": [
    "#Dropping \"Unnamed: 0\" column\n",
    " \n",
    "df.drop([\"Unnamed: 0\"], axis=1, inplace=True)"
   ]
  },
  {
   "cell_type": "code",
   "execution_count": 6,
   "id": "3e1fee5a",
   "metadata": {
    "execution": {
     "iopub.execute_input": "2023-04-05T16:06:38.938754Z",
     "iopub.status.busy": "2023-04-05T16:06:38.938087Z",
     "iopub.status.idle": "2023-04-05T16:06:38.976361Z",
     "shell.execute_reply": "2023-04-05T16:06:38.974900Z"
    },
    "papermill": {
     "duration": 0.053864,
     "end_time": "2023-04-05T16:06:38.979136",
     "exception": false,
     "start_time": "2023-04-05T16:06:38.925272",
     "status": "completed"
    },
    "tags": []
   },
   "outputs": [
    {
     "name": "stdout",
     "output_type": "stream",
     "text": [
      "<class 'pandas.core.frame.DataFrame'>\n",
      "RangeIndex: 72134 entries, 0 to 72133\n",
      "Data columns (total 3 columns):\n",
      " #   Column  Non-Null Count  Dtype \n",
      "---  ------  --------------  ----- \n",
      " 0   title   71576 non-null  object\n",
      " 1   text    72095 non-null  object\n",
      " 2   label   72134 non-null  int64 \n",
      "dtypes: int64(1), object(2)\n",
      "memory usage: 1.7+ MB\n"
     ]
    }
   ],
   "source": [
    "df.info()"
   ]
  },
  {
   "cell_type": "code",
   "execution_count": 7,
   "id": "11dc8382",
   "metadata": {
    "execution": {
     "iopub.execute_input": "2023-04-05T16:06:39.416426Z",
     "iopub.status.busy": "2023-04-05T16:06:39.415651Z",
     "iopub.status.idle": "2023-04-05T16:06:39.447874Z",
     "shell.execute_reply": "2023-04-05T16:06:39.446393Z"
    },
    "papermill": {
     "duration": 0.048078,
     "end_time": "2023-04-05T16:06:39.450594",
     "exception": false,
     "start_time": "2023-04-05T16:06:39.402516",
     "status": "completed"
    },
    "tags": []
   },
   "outputs": [
    {
     "data": {
      "text/plain": [
       "title    558\n",
       "text      39\n",
       "label      0\n",
       "dtype: int64"
      ]
     },
     "execution_count": 7,
     "metadata": {},
     "output_type": "execute_result"
    }
   ],
   "source": [
    "#check for null values\n",
    "df.isnull().sum()"
   ]
  },
  {
   "cell_type": "code",
   "execution_count": 8,
   "id": "5d37b6b9",
   "metadata": {
    "execution": {
     "iopub.execute_input": "2023-04-05T16:06:39.477398Z",
     "iopub.status.busy": "2023-04-05T16:06:39.476618Z",
     "iopub.status.idle": "2023-04-05T16:06:39.507044Z",
     "shell.execute_reply": "2023-04-05T16:06:39.505771Z"
    },
    "papermill": {
     "duration": 0.046908,
     "end_time": "2023-04-05T16:06:39.510057",
     "exception": false,
     "start_time": "2023-04-05T16:06:39.463149",
     "status": "completed"
    },
    "tags": []
   },
   "outputs": [],
   "source": [
    "# Drop rows with null values\n",
    "df.dropna(subset=['title', 'text'], inplace=True)"
   ]
  },
  {
   "cell_type": "code",
   "execution_count": 9,
   "id": "f6fe3a6c",
   "metadata": {},
   "outputs": [],
   "source": [
    "# Combine 'title' and 'text' columns\n",
    "df['content'] = df['title'] + \" \" + df['text']"
   ]
  },
  {
   "cell_type": "markdown",
   "id": "ba43c1f0",
   "metadata": {},
   "source": [
    "## Text Cleaning"
   ]
  },
  {
   "cell_type": "code",
   "execution_count": 10,
   "id": "31031b4a",
   "metadata": {},
   "outputs": [],
   "source": [
    "import nltk\n",
    "from nltk.corpus import stopwords\n",
    "from nltk.stem import WordNetLemmatizer\n",
    "import re\n",
    "\n",
    "\n",
    "# Initialize stopwords and lemmatizer\n",
    "stop_words = set(stopwords.words('english'))\n",
    "lemmatizer = WordNetLemmatizer()\n",
    "\n",
    "def preprocess_text(text):\n",
    "    # Lowercase\n",
    "    text = text.lower()\n",
    "    \n",
    "    # Expand contractions (e.g., \"isn't\" -> \"is not\")\n",
    "    text = re.sub(r\"n't\", \" not\", text)\n",
    "    text = re.sub(r\"'re\", \" are\", text)\n",
    "    text = re.sub(r\"'s\", \" is\", text)\n",
    "    text = re.sub(r\"'d\", \" would\", text)\n",
    "    text = re.sub(r\"'ll\", \" will\", text)\n",
    "    text = re.sub(r\"'t\", \" not\", text)\n",
    "    text = re.sub(r\"'ve\", \" have\", text)\n",
    "    text = re.sub(r\"'m\", \" am\", text)\n",
    "    \n",
    "    # Remove URLs\n",
    "    text = re.sub(r\"http\\S+|www\\S+|https\\S+\", '', text, flags=re.MULTILINE)\n",
    "    \n",
    "    # Remove special characters and numbers\n",
    "    text = re.sub(r'\\W', ' ', text)\n",
    "    text = re.sub(r'\\d', '', text)\n",
    "    \n",
    "    # Tokenize and remove stopwords, apply lemmatization\n",
    "    tokens = text.split()\n",
    "    tokens = [lemmatizer.lemmatize(word) for word in tokens if word not in stop_words]\n",
    "    \n",
    "    # Rejoin tokens into a single string\n",
    "    text = ' '.join(tokens)\n",
    "    \n",
    "    return text\n",
    "\n",
    "# Apply preprocessing\n",
    "df['content'] = df['content'].apply(preprocess_text)\n"
   ]
  },
  {
   "cell_type": "markdown",
   "id": "f7abb9c2",
   "metadata": {},
   "source": [
    "## Tokenize and Pad Text"
   ]
  },
  {
   "cell_type": "code",
   "execution_count": 11,
   "id": "760fe156",
   "metadata": {},
   "outputs": [],
   "source": [
    "# Parameters for tokenization and padding\n",
    "max_words = 50000  # Vocabulary size\n",
    "max_len = 300      # Maximum sequence length\n",
    "\n",
    "# Tokenize the text\n",
    "tokenizer = Tokenizer(num_words=max_words)\n",
    "tokenizer.fit_on_texts(df['content'])\n",
    "sequences = tokenizer.texts_to_sequences(df['content'])\n",
    "\n",
    "# Pad sequences to ensure uniform input size\n",
    "X = pad_sequences(sequences, maxlen=max_len)\n",
    "y = df['label'].values"
   ]
  },
  {
   "cell_type": "markdown",
   "id": "24af0fa4",
   "metadata": {},
   "source": [
    "## Split the Data"
   ]
  },
  {
   "cell_type": "code",
   "execution_count": 12,
   "id": "4b0f9a12",
   "metadata": {},
   "outputs": [],
   "source": [
    "X_train, X_test, y_train, y_test = train_test_split(X, y, test_size=0.2, random_state=42)"
   ]
  },
  {
   "cell_type": "markdown",
   "id": "b46e7b25",
   "metadata": {
    "papermill": {
     "duration": 0.068623,
     "end_time": "2023-04-05T16:08:35.732527",
     "exception": false,
     "start_time": "2023-04-05T16:08:35.663904",
     "status": "completed"
    },
    "tags": []
   },
   "source": [
    "## Building and Compiling the LSTM Model\n"
   ]
  },
  {
   "cell_type": "code",
   "execution_count": 13,
   "id": "707736a3",
   "metadata": {},
   "outputs": [],
   "source": [
    "from tensorflow.keras.models import Sequential\n",
    "from tensorflow.keras.layers import Embedding, LSTM, Dense, Dropout, SpatialDropout1D\n",
    "embedding_dim = 100  # Embedding vector size\n",
    "\n",
    "model = Sequential([\n",
    "    Embedding(input_dim=max_words, output_dim=embedding_dim),\n",
    "    LSTM(128, return_sequences=True),  # Use return_sequences for stacked LSTM\n",
    "    Dropout(0.2),\n",
    "    LSTM(64),\n",
    "    Dropout(0.2),\n",
    "    Dense(64, activation='relu'),\n",
    "    Dropout(0.2),\n",
    "    Dense(1, activation='sigmoid')  # Binary classification (0=fake, 1=real)\n",
    "])\n",
    "\n",
    "\n",
    "# Compile model\n",
    "model.compile(loss='binary_crossentropy', optimizer='adam', metrics=['accuracy'])"
   ]
  },
  {
   "cell_type": "markdown",
   "id": "7793bc09",
   "metadata": {},
   "source": [
    "## Train the model"
   ]
  },
  {
   "cell_type": "code",
   "execution_count": 14,
   "id": "05d91b77",
   "metadata": {},
   "outputs": [
    {
     "name": "stdout",
     "output_type": "stream",
     "text": [
      "Epoch 1/5\n",
      "\u001b[1m895/895\u001b[0m \u001b[32m━━━━━━━━━━━━━━━━━━━━\u001b[0m\u001b[37m\u001b[0m \u001b[1m460s\u001b[0m 512ms/step - accuracy: 0.8733 - loss: 0.3045 - val_accuracy: 0.9399 - val_loss: 0.1877\n",
      "Epoch 2/5\n",
      "\u001b[1m895/895\u001b[0m \u001b[32m━━━━━━━━━━━━━━━━━━━━\u001b[0m\u001b[37m\u001b[0m \u001b[1m465s\u001b[0m 520ms/step - accuracy: 0.9490 - loss: 0.1415 - val_accuracy: 0.9372 - val_loss: 0.1708\n",
      "Epoch 3/5\n",
      "\u001b[1m895/895\u001b[0m \u001b[32m━━━━━━━━━━━━━━━━━━━━\u001b[0m\u001b[37m\u001b[0m \u001b[1m23488s\u001b[0m 26s/step - accuracy: 0.9628 - loss: 0.1071 - val_accuracy: 0.9549 - val_loss: 0.1433\n",
      "Epoch 4/5\n",
      "\u001b[1m895/895\u001b[0m \u001b[32m━━━━━━━━━━━━━━━━━━━━\u001b[0m\u001b[37m\u001b[0m \u001b[1m524s\u001b[0m 585ms/step - accuracy: 0.9779 - loss: 0.0679 - val_accuracy: 0.9595 - val_loss: 0.1261\n",
      "Epoch 5/5\n",
      "\u001b[1m895/895\u001b[0m \u001b[32m━━━━━━━━━━━━━━━━━━━━\u001b[0m\u001b[37m\u001b[0m \u001b[1m492s\u001b[0m 549ms/step - accuracy: 0.9911 - loss: 0.0277 - val_accuracy: 0.9557 - val_loss: 0.1701\n"
     ]
    }
   ],
   "source": [
    "epochs = 5\n",
    "batch_size = 64\n",
    "\n",
    "history = model.fit(X_train, y_train, epochs=epochs, batch_size=batch_size, \n",
    "                    validation_data=(X_test, y_test), verbose=1)"
   ]
  },
  {
   "cell_type": "markdown",
   "id": "5bd8323d",
   "metadata": {},
   "source": [
    "## Evaluation"
   ]
  },
  {
   "cell_type": "code",
   "execution_count": 16,
   "id": "c974f4eb",
   "metadata": {},
   "outputs": [
    {
     "name": "stdout",
     "output_type": "stream",
     "text": [
      "\u001b[1m448/448\u001b[0m \u001b[32m━━━━━━━━━━━━━━━━━━━━\u001b[0m\u001b[37m\u001b[0m \u001b[1m42s\u001b[0m 94ms/step\n",
      "Accuracy: 0.9556891249650545\n",
      "Precision: 0.9412394592424039\n",
      "Recall: 0.9730178497301785\n",
      "F1 Score: 0.9568648795754524\n"
     ]
    }
   ],
   "source": [
    "from sklearn.metrics import accuracy_score, precision_score, recall_score, f1_score\n",
    "\n",
    "# Predict and evaluate\n",
    "y_pred = (model.predict(X_test) > 0.5).astype(\"int32\")\n",
    "\n",
    "accuracy = accuracy_score(y_test, y_pred)\n",
    "precision = precision_score(y_test, y_pred)\n",
    "recall = recall_score(y_test, y_pred)\n",
    "f1 = f1_score(y_test, y_pred)\n",
    "\n",
    "print(f\"Accuracy: {accuracy}\")\n",
    "print(f\"Precision: {precision}\")\n",
    "print(f\"Recall: {recall}\")\n",
    "print(f\"F1 Score: {f1}\")"
   ]
  },
  {
   "cell_type": "code",
   "execution_count": 17,
   "id": "e53f0f7c",
   "metadata": {},
   "outputs": [
    {
     "data": {
      "text/plain": [
       "Text(70.72222222222221, 0.5, 'Real Labels')"
      ]
     },
     "execution_count": 17,
     "metadata": {},
     "output_type": "execute_result"
    },
    {
     "data": {
      "image/png": "[encoded data removed]",
      "text/plain": [
       "<Figure size 800x600 with 2 Axes>"
      ]
     },
     "metadata": {},
     "output_type": "display_data"
    }
   ],
   "source": [
    "from matplotlib import pyplot as plt\n",
    "import seaborn as sns\n",
    "from sklearn.metrics import confusion_matrix\n",
    "\n",
    "plt.figure(figsize = (8,6))\n",
    "\n",
    "sns.heatmap(confusion_matrix(y_test,y_pred), annot=True, \n",
    "            fmt='', cmap='Blues')\n",
    "\n",
    "plt.xlabel('Predicted Labels')\n",
    "plt.ylabel('Real Labels')"
   ]
  },
  {
   "cell_type": "markdown",
   "id": "b720cfa1",
   "metadata": {},
   "source": [
    "## Create a pipeline with preprocessor and LTSM model"
   ]
  },
  {
   "cell_type": "code",
   "execution_count": 18,
   "id": "9079c5f8",
   "metadata": {},
   "outputs": [],
   "source": [
    "import re\n",
    "from tensorflow.keras.preprocessing.text import Tokenizer\n",
    "from tensorflow.keras.preprocessing.sequence import pad_sequences\n",
    "from sklearn.base import BaseEstimator, TransformerMixin\n",
    "\n",
    "class Preprocessor(BaseEstimator, TransformerMixin):\n",
    "    def __init__(self, max_length=300, vocab_size=50000):\n",
    "        self.max_length = max_length\n",
    "        self.vocab_size = vocab_size\n",
    "        self.tokenizer = None\n",
    "\n",
    "    def clean_text(self, text):\n",
    "        # Lowercase\n",
    "        text = text.lower()\n",
    "        \n",
    "        # Expand contractions\n",
    "        text = re.sub(r\"n't\", \" not\", text)\n",
    "        text = re.sub(r\"'re\", \" are\", text)\n",
    "        text = re.sub(r\"'s\", \" is\", text)\n",
    "        text = re.sub(r\"'d\", \" would\", text)\n",
    "        text = re.sub(r\"'ll\", \" will\", text)\n",
    "        text = re.sub(r\"'t\", \" not\", text)\n",
    "        text = re.sub(r\"'ve\", \" have\", text)\n",
    "        text = re.sub(r\"'m\", \" am\", text)\n",
    "        \n",
    "        # Remove URLs\n",
    "        text = re.sub(r\"http\\S+|www\\S+|https\\S+\", '', text, flags=re.MULTILINE)\n",
    "        \n",
    "        # Remove special characters and numbers\n",
    "        text = re.sub(r'\\W', ' ', text)\n",
    "        text = re.sub(r'\\d', '', text)\n",
    "        \n",
    "        # Tokenize and remove stopwords, apply lemmatization\n",
    "        tokens = text.split()\n",
    "        tokens = [lemmatizer.lemmatize(word) for word in tokens if word not in stop_words]\n",
    "        \n",
    "        # Rejoin tokens into a single string\n",
    "        text = ' '.join(tokens)\n",
    "        \n",
    "        return text\n",
    "\n",
    "    def fit(self, X, y=None):\n",
    "        # Clean text for each entry in X\n",
    "        X_cleaned = [self.clean_text(text) for text in X]\n",
    "        # Initialize and fit the tokenizer\n",
    "        self.tokenizer = Tokenizer(num_words=self.vocab_size)\n",
    "        self.tokenizer.fit_on_texts(X_cleaned)\n",
    "        return self\n",
    "\n",
    "    def transform(self, X, y=None):\n",
    "        # Clean and tokenize text, then pad sequences\n",
    "        X_cleaned = [self.clean_text(text) for text in X]\n",
    "        X_tokenized = self.tokenizer.texts_to_sequences(X_cleaned)\n",
    "        X_padded = pad_sequences(X_tokenized, maxlen=self.max_length)\n",
    "        return X_padded"
   ]
  },
  {
   "cell_type": "code",
   "execution_count": null,
   "id": "8351fbd0",
   "metadata": {},
   "outputs": [],
   "source": [
    "from scikeras.wrappers import KerasClassifier, KerasRegressor\n",
    "from sklearn.pipeline import Pipeline\n",
    "from tensorflow.keras.models import load_model\n",
    "\n",
    "\n",
    "preprocessor = Preprocessor(max_length=300, vocab_size=50000)\n",
    "preprocessor.fit(df['content']) \n",
    "\n",
    "# Load the pre-trained model\n",
    "loaded_model = load_model('trained_lstm_model.keras')\n",
    "\n",
    "# Define the pipeline with the loaded model as the classifier\n",
    "pipe = Pipeline([\n",
    "    ('preprocessor', preprocessor), \n",
    "    ('classifier', loaded_model)     # Loaded pre-trained model as classifier\n",
    "])"
   ]
  },
  {
   "cell_type": "code",
   "execution_count": 20,
   "id": "9b09c639",
   "metadata": {},
   "outputs": [],
   "source": [
    "import pickle\n",
    "\n",
    "\n",
    "with open('pipe_lstm.pkl', 'wb') as f:\n",
    "    pickle.dump(pipe, f)"
   ]
  },
  {
   "cell_type": "markdown",
   "id": "1bfb9773",
   "metadata": {},
   "source": [
    "## Testing"
   ]
  },
  {
   "cell_type": "code",
   "execution_count": 21,
   "id": "a5a65039",
   "metadata": {},
   "outputs": [
    {
     "name": "stdout",
     "output_type": "stream",
     "text": [
      "\u001b[1m1/1\u001b[0m \u001b[32m━━━━━━━━━━━━━━━━━━━━\u001b[0m\u001b[37m\u001b[0m \u001b[1m0s\u001b[0m 157ms/step\n",
      "[[0.99653035]]\n"
     ]
    }
   ],
   "source": [
    "fake_news_example = \"\"\"\n",
    "BREAKING: Scientists discover that consuming chocolate three times a day will extend lifespan by 30 years!\n",
    "According to a new report, researchers have found groundbreaking evidence that eating chocolate regularly can\n",
    "drastically improve life expectancy and prevent almost all diseases. This new \"miracle food\" is said to be \n",
    "the ultimate health solution, and officials are now advising people to include it in their daily diets.\n",
    "\"\"\"\n",
    "# Example prediction\n",
    "print(pipe.predict(pd.Series('fake_news_example ')))"
   ]
  },
  {
   "cell_type": "markdown",
   "id": "31ae98fe",
   "metadata": {},
   "source": [
    "## Saving the tokenizer"
   ]
  },
  {
   "cell_type": "code",
   "execution_count": 22,
   "id": "fac89035",
   "metadata": {},
   "outputs": [],
   "source": [
    "import pickle\n",
    "\n",
    "# Get the tokenizer from the preprocessor in the pipeline\n",
    "tokenizer = pipe.named_steps['preprocessor'].tokenizer\n",
    "\n",
    "# Save the tokenizer\n",
    "with open('tokenizer.pkl', 'wb') as handle:\n",
    "    pickle.dump(tokenizer, handle, protocol=pickle.HIGHEST_PROTOCOL)\n"
   ]
  },
  {
   "cell_type": "markdown",
   "id": "b9f1f0b3",
   "metadata": {},
   "source": [
    "## Training vs Validation loss"
   ]
  },
  {
   "cell_type": "code",
   "execution_count": 23,
   "id": "2ba0c0a4",
   "metadata": {},
   "outputs": [
    {
     "data": {
      "image/png": "[encoded data removed]",
      "text/plain": [
       "<Figure size 640x480 with 1 Axes>"
      ]
     },
     "metadata": {},
     "output_type": "display_data"
    }
   ],
   "source": [
    "loss = history.history['loss']\n",
    "val_loss = history.history['val_loss']\n",
    "\n",
    "epochs = range(1, len(loss)+1)\n",
    "\n",
    "plt.plot(epochs, loss, label='Training loss')\n",
    "plt.plot(epochs, val_loss, label='Validation loss')\n",
    "plt.title('Training and validation loss')\n",
    "plt.xlabel('Epochs')\n",
    "plt.ylabel('Loss')\n",
    "plt.legend()\n",
    "plt.show();"
   ]
  },
  {
   "cell_type": "markdown",
   "id": "8d5be892",
   "metadata": {},
   "source": [
    "## Model Architecture plot"
   ]
  },
  {
   "cell_type": "code",
   "execution_count": 24,
   "id": "8771e5dd",
   "metadata": {},
   "outputs": [
    {
     "name": "stdout",
     "output_type": "stream",
     "text": [
      "You must install pydot (`pip install pydot`) for `plot_model` to work.\n"
     ]
    }
   ],
   "source": [
    "from tensorflow.keras.utils import plot_model\n",
    "plot_model(model, to_file=\"lstm_model.png\", show_shapes=True, show_layer_names=True)\n"
   ]
  },
  {
   "cell_type": "code",
   "execution_count": null,
   "id": "1ad0cad5",
   "metadata": {},
   "outputs": [],
   "source": []
  }
 ],
 "metadata": {
  "kernelspec": {
   "display_name": "tf",
   "language": "python",
   "name": "python3"
  },
  "language_info": {
   "codemirror_mode": {
    "name": "ipython",
    "version": 3
   },
   "file_extension": ".py",
   "mimetype": "text/x-python",
   "name": "python",
   "nbconvert_exporter": "python",
   "pygments_lexer": "ipython3",
   "version": "3.11.5"
  },
  "papermill": {
   "default_parameters": {},
   "duration": 986.048721,
   "end_time": "2023-04-05T16:22:45.027871",
   "environment_variables": {},
   "exception": null,
   "input_path": "__notebook__.ipynb",
   "output_path": "__notebook__.ipynb",
   "parameters": {},
   "start_time": "2023-04-05T16:06:18.979150",
   "version": "2.4.0"
  }
 },
 "nbformat": 4,
 "nbformat_minor": 5
}
